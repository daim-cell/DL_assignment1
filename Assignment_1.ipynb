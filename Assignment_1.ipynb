{
 "cells": [
  {
   "cell_type": "code",
   "execution_count": 2,
   "metadata": {},
   "outputs": [],
   "source": [
    "#importing important libraries\n",
    "import numpy as np\n"
   ]
  },
  {
   "cell_type": "code",
   "execution_count": 9,
   "metadata": {},
   "outputs": [],
   "source": [
    "class Neuralnet:\n",
    "    def __init__(self):\n",
    "        nn_architecture = [\n",
    "    {\"input_dim\": 28*28, \"output_dim\": 2, \"activation\": \"relu\"},\n",
    "    {\"input_dim\": 2, \"output_dim\": 3, \"activation\": \"relu\"},\n",
    "    {\"input_dim\": 3, \"output_dim\": 1, \"activation\": \"sigmoid\"}]\n",
    "        number_of_layers = len(nn_architecture)\n",
    "        params_values = {}\n",
    "        \n",
    "        for idx, layer in enumerate(nn_architecture):\n",
    "            layer_idx = idx + 1\n",
    "            layer_input_size = layer[\"input_dim\"]\n",
    "            layer_output_size = layer[\"output_dim\"]\n",
    "            mu, sigma = 0, 0.1 # mean and standard deviation\n",
    "            params_values['W' + str(layer_idx)] = np.random.normal(\n",
    "                mu,sigma,[layer_output_size, layer_input_size]) * 0.1\n",
    "            params_values['b' + str(layer_idx)] = np.random.normal(\n",
    "                mu,sigma,layer_output_size, 1) * 0.1\n",
    "\n",
    "        return (params_values)"
   ]
  },
  {
   "cell_type": "code",
   "execution_count": 7,
   "metadata": {},
   "outputs": [
    {
     "name": "stdout",
     "output_type": "stream",
     "text": [
      "{'W1': array([[-0.0146716 , -0.00609027,  0.00323994, ..., -0.01132195,\n",
      "        -0.00156797,  0.0050247 ],\n",
      "       [-0.01132354, -0.00795533,  0.00697792, ...,  0.00163147,\n",
      "        -0.0039057 ,  0.00271468]]), 'b1': 0.3320177319030109, 'W2': array([[-0.01522625, -0.00245808],\n",
      "       [ 0.0030945 ,  0.01129264],\n",
      "       [ 0.01015837,  0.00139283]]), 'b2': 0.32651958752666393, 'W3': array([[ 0.00211855, -0.00890504, -0.00304583]]), 'b3': 0.11376897126081498}\n"
     ]
    },
    {
     "data": {
      "text/plain": [
       "<__main__.Neuralnet at 0x1d0c71824c8>"
      ]
     },
     "execution_count": 7,
     "metadata": {},
     "output_type": "execute_result"
    }
   ],
   "source": [
    "x = Neuralnet()\n"
   ]
  }
 ],
 "metadata": {
  "kernelspec": {
   "display_name": "Python 3",
   "language": "python",
   "name": "python3"
  },
  "language_info": {
   "codemirror_mode": {
    "name": "ipython",
    "version": 3
   },
   "file_extension": ".py",
   "mimetype": "text/x-python",
   "name": "python",
   "nbconvert_exporter": "python",
   "pygments_lexer": "ipython3",
   "version": "3.7.4"
  }
 },
 "nbformat": 4,
 "nbformat_minor": 2
}
