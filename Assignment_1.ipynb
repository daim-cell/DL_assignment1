{
 "cells": [
  {
   "cell_type": "code",
   "execution_count": 69,
   "metadata": {},
   "outputs": [],
   "source": [
    "#importing important libraries\n",
    "import numpy as np\n",
    "import pandas as pd"
   ]
  },
  {
   "cell_type": "code",
   "execution_count": 259,
   "metadata": {},
   "outputs": [],
   "source": [
    "class Neuralnet:\n",
    "    def __init__(self,neuron_val, lr, batch_size, epochs):\n",
    "        self.lr, self.batch_size, self.epochs = lr, batch_size, epochs\n",
    "        self.grads_values = {}\n",
    "        self.nn_architecture = [\n",
    "    {\"input_dim\": 28*28, \"output_dim\": neuron_val, \"activation\": \"relu\"},\n",
    "    {\"input_dim\": neuron_val, \"output_dim\": 10, \"activation\": \"softmax\"}]\n",
    "        number_of_layers = len(self.nn_architecture)\n",
    "        self.params_values = {}\n",
    "        \n",
    "        for idx, layer in enumerate(self.nn_architecture):\n",
    "            layer_idx = idx + 1\n",
    "            layer_input_size = layer[\"input_dim\"]\n",
    "            layer_output_size = layer[\"output_dim\"]\n",
    "            mu, sigma = 0, 0.1 # mean and standard deviation\n",
    "            self.params_values['W' + str(layer_idx)] = np.random.normal(\n",
    "                mu,sigma,[layer_output_size, layer_input_size]) \n",
    "            self.params_values['b' + str(layer_idx)] = np.random.normal(\n",
    "                mu,sigma,[layer_output_size, 1])\n",
    " \n",
    "    def params(self):\n",
    "        return self.params_values\n",
    "\n",
    "    \n",
    "    def softmax(self, x):\n",
    "    # Numerically stable with large exponentials\n",
    "        exps = np.exp(x - x.max())\n",
    "        return exps / np.sum(exps, axis=0)\n",
    "\n",
    "    def relu(self,x):\n",
    "        y = np.copy(x)\n",
    "        y[y<0] = 0\n",
    "        return y\n",
    "    def relu_backward(self,x):\n",
    "        return np.where(x < 0, 0, 1)\n",
    "\n",
    "    def softmax_backward(self, x):\n",
    "        exps = np.exp(x - x.max())\n",
    "        return exps / np.sum(exps, axis=0) * (1 - exps / np.sum(exps, axis=0))\n",
    "\n",
    "\n",
    "    \n",
    "    def feedforward(self,X):\n",
    "        self.memory = {}\n",
    "        A_curr = X\n",
    "\n",
    "        for idx, layer in enumerate(self.nn_architecture):\n",
    "            layer_idx = idx + 1\n",
    "            A_prev = A_curr\n",
    "            \n",
    "\n",
    "            activation = layer[\"activation\"]\n",
    "            W_curr = self.params_values[\"W\" + str(layer_idx)]\n",
    "            b_curr = self.params_values[\"b\" + str(layer_idx)]\n",
    "            \n",
    "            Z_curr = np.dot(W_curr, A_prev) + b_curr\n",
    "#             print('Z_curr{},layer{}'.format(Z_curr, layer))\n",
    "            if activation is \"relu\":\n",
    "                A_curr = self.relu(Z_curr)\n",
    "            elif activation is \"softmax\":\n",
    "                A_curr = self.softmax(Z_curr)\n",
    "\n",
    "            self.memory[\"A\" + str(idx)] = A_prev\n",
    "            self.memory[\"Z\" + str(layer_idx)] = Z_curr\n",
    "\n",
    "        return A_curr\n",
    "    \n",
    "    \n",
    "    def backprop(self,Y_hat, Y):\n",
    "        \n",
    "        dA_prev = self.costderivative(Y,Y_hat)\n",
    "\n",
    "        for layer_idx_prev, layer in reversed(list(enumerate(self.nn_architecture))):\n",
    "            layer_idx_curr = layer_idx_prev + 1\n",
    "            activ_function_curr = layer[\"activation\"]\n",
    "\n",
    "            dA_curr = dA_prev\n",
    "\n",
    "            A_prev = self.memory[\"A\" + str(layer_idx_prev)]\n",
    "            Z_curr = self.memory[\"Z\" + str(layer_idx_curr)]\n",
    "            W_curr = self.params_values[\"W\" + str(layer_idx_curr)]\n",
    "            b_curr = self.params_values[\"b\" + str(layer_idx_curr)]\n",
    "            \n",
    "            m = A_prev.shape[1]\n",
    "            if  activ_function_curr is \"relu\":\n",
    "                dZ_curr = np.multiply(dA_curr, self.relu_backward(Z_curr))\n",
    "            else:\n",
    "                dZ_curr = np.multiply(dA_curr, self.softmax_backward(Z_curr))\n",
    "                        \n",
    "            \n",
    "            dA_prev = np.dot(W_curr.T, dZ_curr)\n",
    "            dW_curr = np.dot(dZ_curr, A_prev.T) / m\n",
    "            db_curr = np.sum(dZ_curr, axis=1, keepdims=True)/ m\n",
    "#             print('dZ_curr{}, A_prev{},layer{}'.format(dZ_curr,A_prev,layer))\n",
    "            \n",
    "\n",
    "            self.grads_values[\"dW\" + str(layer_idx_curr)] = dW_curr\n",
    "            self.grads_values[\"db\" + str(layer_idx_curr)] = db_curr\n",
    "            \n",
    "\n",
    "    def sgd(self,X,y):\n",
    "        \n",
    "        costs = []\n",
    "        for epoch in range(self.epochs):\n",
    "            batch = 0\n",
    "            print('epoch',epoch)\n",
    "            while(batch<len(y)):\n",
    "                mini_X = X[batch:batch+self.batch_size].T\n",
    "                mini_y = y[batch:batch+self.batch_size].T\n",
    "                batch += self.batch_size\n",
    "                Y_hat = self.feedforward(mini_X)\n",
    "                self.update(mini_y,Y_hat)\n",
    "            cost = self.get_cost_value(mini_y,Y_hat)\n",
    "            costs.append(cost)\n",
    "        return self.params_values,costs\n",
    "    \n",
    "    \n",
    "    def update(self,y,Y_hat):\n",
    "        self.backprop(Y_hat, y)\n",
    "        for idx, layer in enumerate(self.nn_architecture):\n",
    "            layer_idx = idx + 1\n",
    "            self.params_values[\"W\" + str(layer_idx)] -= self.lr * self.grads_values[\"dW\" + str(layer_idx)]        \n",
    "            self.params_values[\"b\" + str(layer_idx)] -= self.lr * self.grads_values[\"db\" + str(layer_idx)]\n",
    "    \n",
    "    def costderivative(self,y,y_hat):\n",
    "        return -(y-y_hat)\n",
    "    \n",
    "    def get_cost_value(self, y, y_hat):\n",
    "        inner = np.power((y - y_hat), 2)\n",
    "        return np.sum(inner) / (2 * len(y))\n",
    "\n",
    "    \n",
    "    def evaluate(self,X,y):\n",
    "        A_curr = X.T\n",
    "        y_hat = self.feedforward(A_curr).T\n",
    "        corrects= 0\n",
    "        total = len(y)\n",
    "        for i in range(total):\n",
    "            res_max = y_hat[i].argmax()\n",
    "            if res_max == y[i]:\n",
    "                corrects += 1\n",
    "            \n",
    "        return (corrects/total)*100"
   ]
  },
  {
   "cell_type": "code",
   "execution_count": 37,
   "metadata": {},
   "outputs": [],
   "source": [
    "import tensorflow as tf\n",
    "from tensorflow.keras.datasets import mnist"
   ]
  },
  {
   "cell_type": "code",
   "execution_count": 247,
   "metadata": {},
   "outputs": [
    {
     "name": "stdout",
     "output_type": "stream",
     "text": [
      "Train: X=(60000, 784), y=(60000, 10)\n",
      "Test: X=(10000, 784), y=(10000,)\n"
     ]
    }
   ],
   "source": [
    "(trainX, trainy), (testX, testy) = mnist.load_data()\n",
    "# summarize loaded dataset\n",
    "trainy = pd.get_dummies(trainy)\n",
    "trainX = np.asfarray(trainX) /255\n",
    "testX = np.asfarray(testX) /255\n",
    "\n",
    "trainy = np.asfarray(trainy)\n",
    "testy = np.asfarray(testy)\n",
    "\n",
    "\n",
    "trainy[trainy==0] = 0.01\n",
    "trainy[trainy==1] = 0.99\n",
    "\n",
    "trainX = trainX.reshape(60000,28*28)\n",
    "testX = testX.reshape(10000, 28*28)\n",
    "print('Train: X=%s, y=%s' % (trainX.shape, trainy.shape))\n",
    "print('Test: X=%s, y=%s' % (testX.shape, testy.shape))\n",
    "\n",
    "\n"
   ]
  },
  {
   "cell_type": "code",
   "execution_count": null,
   "metadata": {},
   "outputs": [
    {
     "name": "stdout",
     "output_type": "stream",
     "text": [
      "epoch 0\n"
     ]
    }
   ],
   "source": [
    "model = Neuralnet(15,0.1,16,10)\n",
    "x, costs= model.sgd(trainX,trainy)"
   ]
  },
  {
   "cell_type": "code",
   "execution_count": 257,
   "metadata": {},
   "outputs": [
    {
     "data": {
      "image/png": "[encoded data removed]",
      "text/plain": [
       "<Figure size 432x288 with 1 Axes>"
      ]
     },
     "metadata": {
      "needs_background": "light"
     },
     "output_type": "display_data"
    }
   ],
   "source": [
    "from matplotlib import pyplot as plt\n",
    "plt.plot(costs)\n",
    "plt.show()"
   ]
  },
  {
   "cell_type": "code",
   "execution_count": 258,
   "metadata": {},
   "outputs": [
    {
     "ename": "IndexError",
     "evalue": "index 10 is out of bounds for axis 0 with size 10",
     "output_type": "error",
     "traceback": [
      "\u001b[1;31m---------------------------------------------------------------------------\u001b[0m",
      "\u001b[1;31mIndexError\u001b[0m                                Traceback (most recent call last)",
      "\u001b[1;32m<ipython-input-258-6921c81b4e60>\u001b[0m in \u001b[0;36m<module>\u001b[1;34m\u001b[0m\n\u001b[1;32m----> 1\u001b[1;33m \u001b[0mmodel\u001b[0m\u001b[1;33m.\u001b[0m\u001b[0mevaluate\u001b[0m\u001b[1;33m(\u001b[0m\u001b[0mtestX\u001b[0m\u001b[1;33m,\u001b[0m\u001b[0mtesty\u001b[0m\u001b[1;33m)\u001b[0m\u001b[1;33m\u001b[0m\u001b[1;33m\u001b[0m\u001b[0m\n\u001b[0m",
      "\u001b[1;32m<ipython-input-255-ffb87c3e65fa>\u001b[0m in \u001b[0;36mevaluate\u001b[1;34m(self, X, y)\u001b[0m\n\u001b[0;32m    136\u001b[0m         \u001b[0mcorrects\u001b[0m\u001b[1;33m,\u001b[0m \u001b[0mwrongs\u001b[0m \u001b[1;33m=\u001b[0m \u001b[1;36m0\u001b[0m\u001b[1;33m,\u001b[0m \u001b[1;36m0\u001b[0m\u001b[1;33m\u001b[0m\u001b[1;33m\u001b[0m\u001b[0m\n\u001b[0;32m    137\u001b[0m         \u001b[1;32mfor\u001b[0m \u001b[0mi\u001b[0m \u001b[1;32min\u001b[0m \u001b[0mrange\u001b[0m\u001b[1;33m(\u001b[0m\u001b[0mlen\u001b[0m\u001b[1;33m(\u001b[0m\u001b[0my\u001b[0m\u001b[1;33m)\u001b[0m\u001b[1;33m)\u001b[0m\u001b[1;33m:\u001b[0m\u001b[1;33m\u001b[0m\u001b[1;33m\u001b[0m\u001b[0m\n\u001b[1;32m--> 138\u001b[1;33m             \u001b[0mres_max\u001b[0m \u001b[1;33m=\u001b[0m \u001b[0my_hat\u001b[0m\u001b[1;33m[\u001b[0m\u001b[0mi\u001b[0m\u001b[1;33m]\u001b[0m\u001b[1;33m.\u001b[0m\u001b[0margmax\u001b[0m\u001b[1;33m(\u001b[0m\u001b[1;33m)\u001b[0m\u001b[1;33m\u001b[0m\u001b[1;33m\u001b[0m\u001b[0m\n\u001b[0m\u001b[0;32m    139\u001b[0m             \u001b[1;32mif\u001b[0m \u001b[0mres_max\u001b[0m \u001b[1;33m==\u001b[0m \u001b[0my\u001b[0m\u001b[1;33m[\u001b[0m\u001b[0mi\u001b[0m\u001b[1;33m]\u001b[0m\u001b[1;33m:\u001b[0m\u001b[1;33m\u001b[0m\u001b[1;33m\u001b[0m\u001b[0m\n\u001b[0;32m    140\u001b[0m                 \u001b[0mcorrects\u001b[0m \u001b[1;33m+=\u001b[0m \u001b[1;36m1\u001b[0m\u001b[1;33m\u001b[0m\u001b[1;33m\u001b[0m\u001b[0m\n",
      "\u001b[1;31mIndexError\u001b[0m: index 10 is out of bounds for axis 0 with size 10"
     ]
    }
   ],
   "source": [
    "model.evaluate(testX,testy)"
   ]
  }
 ],
 "metadata": {
  "kernelspec": {
   "display_name": "Python 3",
   "language": "python",
   "name": "python3"
  },
  "language_info": {
   "codemirror_mode": {
    "name": "ipython",
    "version": 3
   },
   "file_extension": ".py",
   "mimetype": "text/x-python",
   "name": "python",
   "nbconvert_exporter": "python",
   "pygments_lexer": "ipython3",
   "version": "3.7.4"
  }
 },
 "nbformat": 4,
 "nbformat_minor": 2
}
