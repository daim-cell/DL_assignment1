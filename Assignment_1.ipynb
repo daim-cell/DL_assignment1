{
 "cells": [
  {
   "cell_type": "code",
   "execution_count": 69,
   "metadata": {},
   "outputs": [],
   "source": [
    "#importing important libraries\n",
    "import numpy as np\n",
    "import pandas as pd"
   ]
  },
  {
   "cell_type": "code",
   "execution_count": 259,
   "metadata": {},
   "outputs": [],
   "source": [
    "class Neuralnet:\n",
    "    def __init__(self,neuron_val, lr, batch_size, epochs):\n",
    "        self.lr, self.batch_size, self.epochs = lr, batch_size, epochs\n",
    "        self.grads_values = {}\n",
    "        self.nn_architecture = [\n",
    "    {\"input_dim\": 28*28, \"output_dim\": neuron_val, \"activation\": \"relu\"},\n",
    "    {\"input_dim\": neuron_val, \"output_dim\": 10, \"activation\": \"softmax\"}]\n",
    "        number_of_layers = len(self.nn_architecture)\n",
    "        self.params_values = {}\n",
    "        \n",
    "        for idx, layer in enumerate(self.nn_architecture):\n",
    "            layer_idx = idx + 1\n",
    "            layer_input_size = layer[\"input_dim\"]\n",
    "            layer_output_size = layer[\"output_dim\"]\n",
    "            mu, sigma = 0, 0.1 # mean and standard deviation\n",
    "            self.params_values['W' + str(layer_idx)] = np.random.normal(\n",
    "                mu,sigma,[layer_output_size, layer_input_size]) \n",
    "            self.params_values['b' + str(layer_idx)] = np.random.normal(\n",
    "                mu,sigma,[layer_output_size, 1])\n",
    " \n",
    "    def params(self):\n",
    "        return self.params_values\n",
    "\n",
    "    \n",
    "    def softmax(self, x):\n",
    "    # Numerically stable with large exponentials\n",
    "        exps = np.exp(x - x.max())\n",
    "        return exps / np.sum(exps, axis=0)\n",
    "\n",
    "    def relu(self,x):\n",
    "        y = np.copy(x)\n",
    "        y[y<0] = 0\n",
    "        return y\n",
    "    def relu_backward(self,x):\n",
    "        return np.where(x < 0, 0, 1)\n",
    "\n",
    "    def softmax_backward(self, x):\n",
    "        exps = np.exp(x - x.max())\n",
    "        return exps / np.sum(exps, axis=0) * (1 - exps / np.sum(exps, axis=0))\n",
    "\n",
    "\n",
    "    \n",
    "    def feedforward(self,X):\n",
    "        self.memory = {}\n",
    "        A_curr = X\n",
    "\n",
    "        for idx, layer in enumerate(self.nn_architecture):\n",
    "            layer_idx = idx + 1\n",
    "            A_prev = A_curr\n",
    "            \n",
    "\n",
    "            activation = layer[\"activation\"]\n",
    "            W_curr = self.params_values[\"W\" + str(layer_idx)]\n",
    "            b_curr = self.params_values[\"b\" + str(layer_idx)]\n",
    "            \n",
    "            Z_curr = np.dot(W_curr, A_prev) + b_curr\n",
    "#             print('Z_curr{},layer{}'.format(Z_curr, layer))\n",
    "            if activation is \"relu\":\n",
    "                A_curr = self.relu(Z_curr)\n",
    "            elif activation is \"softmax\":\n",
    "                A_curr = self.softmax(Z_curr)\n",
    "\n",
    "            self.memory[\"A\" + str(idx)] = A_prev\n",
    "            self.memory[\"Z\" + str(layer_idx)] = Z_curr\n",
    "\n",
    "        return A_curr\n",
    "    \n",
    "    \n",
    "    def backprop(self,Y_hat, Y):\n",
    "        \n",
    "        dA_prev = self.costderivative(Y,Y_hat)\n",
    "\n",
    "        for layer_idx_prev, layer in reversed(list(enumerate(self.nn_architecture))):\n",
    "            layer_idx_curr = layer_idx_prev + 1\n",
    "            activ_function_curr = layer[\"activation\"]\n",
    "\n",
    "            dA_curr = dA_prev\n",
    "\n",
    "            A_prev = self.memory[\"A\" + str(layer_idx_prev)]\n",
    "            Z_curr = self.memory[\"Z\" + str(layer_idx_curr)]\n",
    "            W_curr = self.params_values[\"W\" + str(layer_idx_curr)]\n",
    "            b_curr = self.params_values[\"b\" + str(layer_idx_curr)]\n",
    "            \n",
    "            m = A_prev.shape[1]\n",
    "            if  activ_function_curr is \"relu\":\n",
    "                dZ_curr = np.multiply(dA_curr, self.relu_backward(Z_curr))\n",
    "            else:\n",
    "                dZ_curr = np.multiply(dA_curr, self.softmax_backward(Z_curr))\n",
    "                        \n",
    "            \n",
    "            dA_prev = np.dot(W_curr.T, dZ_curr)\n",
    "            dW_curr = np.dot(dZ_curr, A_prev.T) / m\n",
    "            db_curr = np.sum(dZ_curr, axis=1, keepdims=True)/ m\n",
    "#             print('dZ_curr{}, A_prev{},layer{}'.format(dZ_curr,A_prev,layer))\n",
    "            \n",
    "\n",
    "            self.grads_values[\"dW\" + str(layer_idx_curr)] = dW_curr\n",
    "            self.grads_values[\"db\" + str(layer_idx_curr)] = db_curr\n",
    "            \n",
    "\n",
    "    def sgd(self,X,y):\n",
    "        \n",
    "        costs = []\n",
    "        for epoch in range(self.epochs):\n",
    "            batch = 0\n",
    "            print('epoch',epoch)\n",
    "            while(batch<len(y)):\n",
    "                mini_X = X[batch:batch+self.batch_size].T\n",
    "                mini_y = y[batch:batch+self.batch_size].T\n",
    "                batch += self.batch_size\n",
    "                Y_hat = self.feedforward(mini_X)\n",
    "                self.update(mini_y,Y_hat)\n",
    "            cost = self.get_cost_value(mini_y,Y_hat)\n",
    "            costs.append(cost)\n",
    "        return self.params_values,costs\n",
    "    \n",
    "    \n",
    "    def update(self,y,Y_hat):\n",
    "        self.backprop(Y_hat, y)\n",
    "        for idx, layer in enumerate(self.nn_architecture):\n",
    "            layer_idx = idx + 1\n",
    "            self.params_values[\"W\" + str(layer_idx)] -= self.lr * self.grads_values[\"dW\" + str(layer_idx)]        \n",
    "            self.params_values[\"b\" + str(layer_idx)] -= self.lr * self.grads_values[\"db\" + str(layer_idx)]\n",
    "    \n",
    "    def costderivative(self,y,y_hat):\n",
    "        return -(y-y_hat)\n",
    "    \n",
    "    def get_cost_value(self, y, y_hat):\n",
    "        inner = np.power((y - y_hat), 2)\n",
    "        return np.sum(inner) / (2 * len(y))\n",
    "\n",
    "    \n",
    "    def evaluate(self,X,y):\n",
    "        A_curr = X.T\n",
    "        y_hat = self.feedforward(A_curr).T\n",
    "        corrects= 0\n",
    "        total = len(y)\n",
    "        for i in range(total):\n",
    "            res_max = y_hat[i].argmax()\n",
    "            if res_max == y[i]:\n",
    "                corrects += 1\n",
    "            \n",
    "        return (corrects/total)*100"
   ]
  },
  {
   "cell_type": "code",
   "execution_count": 37,
   "metadata": {},
   "outputs": [],
   "source": [
    "import tensorflow as tf\n",
    "from tensorflow.keras.datasets import mnist"
   ]
  },
  {
   "cell_type": "code",
   "execution_count": 247,
   "metadata": {},
   "outputs": [
    {
     "name": "stdout",
     "output_type": "stream",
     "text": [
      "Train: X=(60000, 784), y=(60000, 10)\n",
      "Test: X=(10000, 784), y=(10000,)\n"
     ]
    }
   ],
   "source": [
    "(trainX, trainy), (testX, testy) = mnist.load_data()\n",
    "# summarize loaded dataset\n",
    "trainy = pd.get_dummies(trainy)\n",
    "trainX = np.asfarray(trainX) /255\n",
    "testX = np.asfarray(testX) /255\n",
    "\n",
    "trainy = np.asfarray(trainy)\n",
    "testy = np.asfarray(testy)\n",
    "\n",
    "\n",
    "trainy[trainy==0] = 0.01\n",
    "trainy[trainy==1] = 0.99\n",
    "\n",
    "trainX = trainX.reshape(60000,28*28)\n",
    "testX = testX.reshape(10000, 28*28)\n",
    "print('Train: X=%s, y=%s' % (trainX.shape, trainy.shape))\n",
    "print('Test: X=%s, y=%s' % (testX.shape, testy.shape))\n",
    "\n",
    "\n"
   ]
  },
  {
   "cell_type": "code",
   "execution_count": 260,
   "metadata": {},
   "outputs": [
    {
     "name": "stdout",
     "output_type": "stream",
     "text": [
      "epoch 0\n",
      "epoch 1\n",
      "epoch 2\n",
      "epoch 3\n",
      "epoch 4\n",
      "epoch 5\n",
      "epoch 6\n",
      "epoch 7\n",
      "epoch 8\n",
      "epoch 9\n"
     ]
    }
   ],
   "source": [
    "model = Neuralnet(15,0.1,16,10)\n",
    "x, costs= model.sgd(trainX,trainy)"
   ]
  },
  {
   "cell_type": "code",
   "execution_count": 261,
   "metadata": {},
   "outputs": [
    {
     "data": {
      "image/png": "[encoded data removed]",
      "text/plain": [
       "<Figure size 432x288 with 1 Axes>"
      ]
     },
     "metadata": {
      "needs_background": "light"
     },
     "output_type": "display_data"
    }
   ],
   "source": [
    "from matplotlib import pyplot as plt\n",
    "plt.plot(costs)\n",
    "plt.show()"
   ]
  },
  {
   "cell_type": "code",
   "execution_count": 262,
   "metadata": {},
   "outputs": [
    {
     "data": {
      "text/plain": [
       "93.92"
      ]
     },
     "execution_count": 262,
     "metadata": {},
     "output_type": "execute_result"
    }
   ],
   "source": [
    "model.evaluate(testX,testy)"
   ]
  }
 ],
 "metadata": {
  "kernelspec": {
   "display_name": "Python 3",
   "language": "python",
   "name": "python3"
  },
  "language_info": {
   "codemirror_mode": {
    "name": "ipython",
    "version": 3
   },
   "file_extension": ".py",
   "mimetype": "text/x-python",
   "name": "python",
   "nbconvert_exporter": "python",
   "pygments_lexer": "ipython3",
   "version": "3.7.4"
  }
 },
 "nbformat": 4,
 "nbformat_minor": 2
}
