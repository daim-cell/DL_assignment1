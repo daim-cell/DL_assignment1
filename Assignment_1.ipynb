{
 "cells": [
  {
   "cell_type": "code",
   "execution_count": 145,
   "metadata": {},
   "outputs": [],
   "source": [
    "#importing important libraries\n",
    "import numpy as np\n",
    "import pandas as pd"
   ]
  },
  {
   "cell_type": "code",
   "execution_count": 187,
   "metadata": {},
   "outputs": [],
   "source": [
    "class Neuralnet:\n",
    "    def __init__(self,neuron_val, lr, batch_size, epochs):\n",
    "        self.lr, self.batch_size, self.epochs = lr, batch_size, epochs\n",
    "        self.nn_architecture = [\n",
    "    {\"input_dim\": 28*28, \"output_dim\": neuron_val, \"activation\": \"relu\"},\n",
    "    {\"input_dim\": neuron_val, \"output_dim\": 10, \"activation\": \"sigmoid\"}]\n",
    "        number_of_layers = len(self.nn_architecture)\n",
    "        self.params_values = {}\n",
    "        \n",
    "        for idx, layer in enumerate(self.nn_architecture):\n",
    "            layer_idx = idx + 1\n",
    "            layer_input_size = layer[\"input_dim\"]\n",
    "            layer_output_size = layer[\"output_dim\"]\n",
    "            mu, sigma = 0, 0.1 # mean and standard deviation\n",
    "            self.params_values['W' + str(layer_idx)] = np.random.normal(\n",
    "                mu,sigma,[layer_output_size, layer_input_size]) \n",
    "            self.params_values['b' + str(layer_idx)] = np.random.normal(\n",
    "                mu,sigma,[layer_output_size, 1])\n",
    " \n",
    "    def params(self):\n",
    "        return self.params_values\n",
    "    \n",
    "    def sigmoid(self,Z):\n",
    "        return 1/(1+np.exp(-Z))\n",
    "\n",
    "    def relu(self,Z):\n",
    "        return np.maximum(0,Z)\n",
    "\n",
    "    def sigmoid_backward(self, dA, Z):\n",
    "        sig = self.sigmoid(Z)\n",
    "        return dA * sig * (1 - sig)\n",
    "\n",
    "    def relu_backward(self, dA, Z):\n",
    "        dZ = np.array(dA, copy = True)\n",
    "        dZ[Z <= 0] = 0;\n",
    "        return dZ;\n",
    "    \n",
    "\n",
    "    \n",
    "    def feedforward(self,X_val):\n",
    "        self.memory = {}\n",
    "        for X in X_val:\n",
    "            A_curr = X\n",
    "\n",
    "            for idx, layer in enumerate(self.nn_architecture):\n",
    "                layer_idx = idx + 1\n",
    "                A_prev = A_curr\n",
    "                print(A_prev.shape)\n",
    "\n",
    "                activation = layer[\"activation\"]\n",
    "                W_curr = self.params_values[\"W\" + str(layer_idx)]\n",
    "                b_curr = self.params_values[\"b\" + str(layer_idx)]\n",
    "                print(W_curr.shape)\n",
    "    #             Z_curr = np.dot(W_curr, A_prev) + b_curr\n",
    "\n",
    "                if activation is \"relu\":\n",
    "                    A_curr = self.relu(Z_curr)\n",
    "                elif activation is \"sigmoid\":\n",
    "                    A_curr = self.sigmoid(Z_curr)\n",
    "\n",
    "                self.memory[\"A\" + str(idx)] = A_prev\n",
    "                self.memory[\"Z\" + str(layer_idx)] = Z_curr\n",
    "\n",
    "        return A_curr\n",
    "    \n",
    "    \n",
    "    def backprop(self,Y_hat, Y):\n",
    "        self.grads_values = {}\n",
    "        m = Y.shape[1]\n",
    "        Y = Y.reshape(Y_hat.shape)\n",
    "\n",
    "        dA_prev = - (np.divide(Y, Y_hat) - np.divide(1 - Y, 1 - Y_hat));\n",
    "\n",
    "        for layer_idx_prev, layer in reversed(list(enumerate(self.nn_architecture))):\n",
    "            layer_idx_curr = layer_idx_prev + 1\n",
    "            activ_function_curr = layer[\"activation\"]\n",
    "\n",
    "            dA_curr = dA_prev\n",
    "\n",
    "            A_prev = self.memory[\"A\" + str(layer_idx_prev)]\n",
    "            Z_curr = self.memory[\"Z\" + str(layer_idx_curr)]\n",
    "            W_curr = self.params_values[\"W\" + str(layer_idx_curr)]\n",
    "            b_curr = self.params_values[\"b\" + str(layer_idx_curr)]\n",
    "            \n",
    "            m = A_prev.shape[1]\n",
    "\n",
    "            if  activ_function_curr == \"relu\":\n",
    "                dZ_curr = relu_backward(dA_curr, Z_curr)\n",
    "            else:\n",
    "                dZ_curr = sigmoid_backward(dA_curr, Z_curr)\n",
    "                        \n",
    "            dW_curr = np.dot(dZ_curr, A_prev.T) / m\n",
    "            db_curr = np.sum(dZ_curr, axis=1, keepdims=True) / m\n",
    "            dA_prev = np.dot(W_curr.T, dZ_curr)\n",
    "\n",
    "            self.grads_values[\"dW\" + str(layer_idx_curr)] = dW_curr\n",
    "            self.grads_values[\"db\" + str(layer_idx_curr)] = db_curr\n",
    "            \n",
    "\n",
    "    def sgd(self,X,y):\n",
    "        \n",
    "        self.cost_history = []\n",
    "\n",
    "        for i in range(self.epochs):\n",
    "            Y_hat = self.feedforward(X)\n",
    "            cost = self.get_cost_value(y, Y_hat)\n",
    "            self.cost_history.append(cost)\n",
    "#             self.update()\n",
    "\n",
    "        return self.params_values, self.cost_history\n",
    "    \n",
    "    def update(self):\n",
    "        self.backprop(Y_hat, Y)\n",
    "        for layer_idx, layer in enumerate(self.nn_architecture):\n",
    "            self.params_values[\"W\" + str(layer_idx)] -= self.lr * self.grads_values[\"dW\" + str(layer_idx)]        \n",
    "            self.params_values[\"b\" + str(layer_idx)] -= self.lr * self.grads_values[\"db\" + str(layer_idx)]\n",
    "\n",
    "    \n",
    "    def get_cost_value(self, y, y_hat):\n",
    "        inner = np.power((y - y_hat), 2)\n",
    "        return np.sum(inner) / (2 * len(y))\n",
    "    \n",
    "    def evaluate(self):\n",
    "        inp = np.random.randn(28*28)\n",
    "        x,y = self.feedforward(inp)\n",
    "        return x,y"
   ]
  },
  {
   "cell_type": "code",
   "execution_count": 140,
   "metadata": {},
   "outputs": [],
   "source": [
    "import tensorflow as tf\n",
    "from tensorflow.keras.datasets import mnist"
   ]
  },
  {
   "cell_type": "code",
   "execution_count": 160,
   "metadata": {},
   "outputs": [
    {
     "name": "stdout",
     "output_type": "stream",
     "text": [
      "Train: X=(60000, 784), y=(60000, 10)\n",
      "Test: X=(10000, 784), y=(10000, 10)\n"
     ]
    }
   ],
   "source": [
    "(trainX, trainy), (testX, testy) = mnist.load_data()\n",
    "# summarize loaded dataset\n",
    "trainy = pd.get_dummies(trainy)\n",
    "testy = pd.get_dummies(testy)\n",
    "\n",
    "trainX = trainX.reshape(60000,28*28)\n",
    "testX = testX.reshape(10000, 28*28)\n",
    "print('Train: X=%s, y=%s' % (trainX.shape, trainy.shape))\n",
    "print('Test: X=%s, y=%s' % (testX.shape, testy.shape))\n",
    "\n"
   ]
  },
  {
   "cell_type": "code",
   "execution_count": 185,
   "metadata": {},
   "outputs": [],
   "source": [
    "model = Neuralnet(15,0.1,16,30)\n",
    "y = model.params()"
   ]
  },
  {
   "cell_type": "code",
   "execution_count": 186,
   "metadata": {},
   "outputs": [
    {
     "name": "stdout",
     "output_type": "stream",
     "text": [
      "(10000, 784)\n",
      "(15, 784)\n"
     ]
    },
    {
     "ename": "NameError",
     "evalue": "name 'Z_curr' is not defined",
     "output_type": "error",
     "traceback": [
      "\u001b[1;31m---------------------------------------------------------------------------\u001b[0m",
      "\u001b[1;31mNameError\u001b[0m                                 Traceback (most recent call last)",
      "\u001b[1;32m<ipython-input-186-9ab7b8265f66>\u001b[0m in \u001b[0;36m<module>\u001b[1;34m\u001b[0m\n\u001b[1;32m----> 1\u001b[1;33m \u001b[0mmodel\u001b[0m\u001b[1;33m.\u001b[0m\u001b[0msgd\u001b[0m\u001b[1;33m(\u001b[0m\u001b[0mtestX\u001b[0m\u001b[1;33m,\u001b[0m\u001b[0mtesty\u001b[0m\u001b[1;33m)\u001b[0m\u001b[1;33m\u001b[0m\u001b[1;33m\u001b[0m\u001b[0m\n\u001b[0m",
      "\u001b[1;32m<ipython-input-183-90d9f2011556>\u001b[0m in \u001b[0;36msgd\u001b[1;34m(self, X, y)\u001b[0m\n\u001b[0;32m    102\u001b[0m \u001b[1;33m\u001b[0m\u001b[0m\n\u001b[0;32m    103\u001b[0m         \u001b[1;32mfor\u001b[0m \u001b[0mi\u001b[0m \u001b[1;32min\u001b[0m \u001b[0mrange\u001b[0m\u001b[1;33m(\u001b[0m\u001b[0mself\u001b[0m\u001b[1;33m.\u001b[0m\u001b[0mepochs\u001b[0m\u001b[1;33m)\u001b[0m\u001b[1;33m:\u001b[0m\u001b[1;33m\u001b[0m\u001b[1;33m\u001b[0m\u001b[0m\n\u001b[1;32m--> 104\u001b[1;33m             \u001b[0mY_hat\u001b[0m \u001b[1;33m=\u001b[0m \u001b[0mself\u001b[0m\u001b[1;33m.\u001b[0m\u001b[0mfeedforward\u001b[0m\u001b[1;33m(\u001b[0m\u001b[0mX\u001b[0m\u001b[1;33m)\u001b[0m\u001b[1;33m\u001b[0m\u001b[1;33m\u001b[0m\u001b[0m\n\u001b[0m\u001b[0;32m    105\u001b[0m             \u001b[0mcost\u001b[0m \u001b[1;33m=\u001b[0m \u001b[0mself\u001b[0m\u001b[1;33m.\u001b[0m\u001b[0mget_cost_value\u001b[0m\u001b[1;33m(\u001b[0m\u001b[0my\u001b[0m\u001b[1;33m,\u001b[0m \u001b[0mY_hat\u001b[0m\u001b[1;33m)\u001b[0m\u001b[1;33m\u001b[0m\u001b[1;33m\u001b[0m\u001b[0m\n\u001b[0;32m    106\u001b[0m             \u001b[0mself\u001b[0m\u001b[1;33m.\u001b[0m\u001b[0mcost_history\u001b[0m\u001b[1;33m.\u001b[0m\u001b[0mappend\u001b[0m\u001b[1;33m(\u001b[0m\u001b[0mcost\u001b[0m\u001b[1;33m)\u001b[0m\u001b[1;33m\u001b[0m\u001b[1;33m\u001b[0m\u001b[0m\n",
      "\u001b[1;32m<ipython-input-183-90d9f2011556>\u001b[0m in \u001b[0;36mfeedforward\u001b[1;34m(self, X)\u001b[0m\n\u001b[0;32m     54\u001b[0m \u001b[1;33m\u001b[0m\u001b[0m\n\u001b[0;32m     55\u001b[0m             \u001b[1;32mif\u001b[0m \u001b[0mactivation\u001b[0m \u001b[1;32mis\u001b[0m \u001b[1;34m\"relu\"\u001b[0m\u001b[1;33m:\u001b[0m\u001b[1;33m\u001b[0m\u001b[1;33m\u001b[0m\u001b[0m\n\u001b[1;32m---> 56\u001b[1;33m                 \u001b[0mA_curr\u001b[0m \u001b[1;33m=\u001b[0m \u001b[0mself\u001b[0m\u001b[1;33m.\u001b[0m\u001b[0mrelu\u001b[0m\u001b[1;33m(\u001b[0m\u001b[0mZ_curr\u001b[0m\u001b[1;33m)\u001b[0m\u001b[1;33m\u001b[0m\u001b[1;33m\u001b[0m\u001b[0m\n\u001b[0m\u001b[0;32m     57\u001b[0m             \u001b[1;32melif\u001b[0m \u001b[0mactivation\u001b[0m \u001b[1;32mis\u001b[0m \u001b[1;34m\"sigmoid\"\u001b[0m\u001b[1;33m:\u001b[0m\u001b[1;33m\u001b[0m\u001b[1;33m\u001b[0m\u001b[0m\n\u001b[0;32m     58\u001b[0m                 \u001b[0mA_curr\u001b[0m \u001b[1;33m=\u001b[0m \u001b[0mself\u001b[0m\u001b[1;33m.\u001b[0m\u001b[0msigmoid\u001b[0m\u001b[1;33m(\u001b[0m\u001b[0mZ_curr\u001b[0m\u001b[1;33m)\u001b[0m\u001b[1;33m\u001b[0m\u001b[1;33m\u001b[0m\u001b[0m\n",
      "\u001b[1;31mNameError\u001b[0m: name 'Z_curr' is not defined"
     ]
    }
   ],
   "source": [
    "\n",
    "model.sgd(testX,testy)"
   ]
  }
 ],
 "metadata": {
  "kernelspec": {
   "display_name": "Python 3",
   "language": "python",
   "name": "python3"
  },
  "language_info": {
   "codemirror_mode": {
    "name": "ipython",
    "version": 3
   },
   "file_extension": ".py",
   "mimetype": "text/x-python",
   "name": "python",
   "nbconvert_exporter": "python",
   "pygments_lexer": "ipython3",
   "version": "3.7.4"
  }
 },
 "nbformat": 4,
 "nbformat_minor": 2
}
